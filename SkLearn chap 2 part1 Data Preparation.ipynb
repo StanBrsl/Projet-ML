{
 "cells": [
  {
   "cell_type": "markdown",
   "id": "880a9f97",
   "metadata": {},
   "source": [
    "# Préparation des données"
   ]
  },
  {
   "cell_type": "markdown",
   "id": "16521da6",
   "metadata": {},
   "source": [
    "Dans ce chapitre nous transformerons les données de telles sorte à ce qu'elles soient utilisables par des algorithmes de Machine Learning. C'est aussi pendant cette phase que nous trierons les données pour la suite du processus. Au cours de cette phase toute décision prise doit pouvoir être justifiée et expliquée de sorte à ce que le traitement des données et les résultats donnés par le modèle soient les plus précis possibles. \n",
    "\n",
    "Je commence par importer les datasets de travail qui illustrerons tous les exemples de ce document. "
   ]
  },
  {
   "cell_type": "code",
   "execution_count": 2,
   "id": "242108cb",
   "metadata": {},
   "outputs": [
    {
     "name": "stdout",
     "output_type": "stream",
     "text": [
      "path : C:/Users/Stanislas Brusselle/OneDrive/Documents/Projet ML sklearn/des-fichiers-complementaires-3-049-ko/Telechargement/data/iris.csv\n",
      "path : C:/Users/Stanislas Brusselle/OneDrive/Documents/Projet ML sklearn/des-fichiers-complementaires-3-049-ko/Telechargement/data/titanic_train.csv\n",
      "path : C:/Users/Stanislas Brusselle/OneDrive/Documents/Projet ML sklearn/des-fichiers-complementaires-3-049-ko/Telechargement/data/boston.txt\n"
     ]
    }
   ],
   "source": [
    "import pandas as pd \n",
    "\n",
    "import tkinter as tk\n",
    "from tkinter import filedialog as fd\n",
    "\n",
    "def select_file_csv():\n",
    "    \n",
    "    init = \"C:\\\\Users\\\\Stanislas Brusselle\\\\OneDrive\\\\Documents\\\\Projet ML sklearn\\\\des-fichiers-complementaires-3-049-ko\\\\Telechargement\\\\data\"\n",
    "    \n",
    "    file_type = (('csv file', '*.csv'), ('All file', '*.*'))\n",
    "    file_name = fd.askopenfilename(initialdir = init, title='Fichiers', filetypes = file_type)\n",
    "    \n",
    "    return file_name\n",
    "\n",
    "def select_file_txt():\n",
    "    \n",
    "    init = \"C:\\\\Users\\\\Stanislas Brusselle\\\\OneDrive\\\\Documents\\\\Projet ML sklearn\\\\des-fichiers-complementaires-3-049-ko\\\\Telechargement\\\\data\"\n",
    "    \n",
    "    file_type = (('csv file', '*.txt'), ('All file', '*.*'))\n",
    "    file_name = fd.askopenfilename(initialdir = init, title='Fichiers', filetypes = file_type)\n",
    "    \n",
    "    return file_name\n",
    "\n",
    "def cvs_to_dataFrame():\n",
    "    \n",
    "    root=tk.Tk()  \n",
    "    root.overrideredirect(1)\n",
    "\n",
    "    path=select_file_csv()\n",
    "\n",
    "    root.destroy()\n",
    "    \n",
    "    print(\"path : \" + path)\n",
    "    \n",
    "    with open(path, mode='r') as file : \n",
    "        fichier = pd.read_csv(file)\n",
    "        \n",
    "    return fichier\n",
    "\n",
    "def txt_to_dataFrame(nom_colonnes, skip_rows):\n",
    "    \n",
    "    root=tk.Tk()  \n",
    "    root.overrideredirect(1)\n",
    "\n",
    "    path=select_file_txt()\n",
    "\n",
    "    root.destroy()\n",
    "    \n",
    "    print(\"path : \" + path)\n",
    "    \n",
    "    with open(path, mode='r') as file : \n",
    "        fichier = pd.read_fwf(file, skip_rows=skip_rows, header=None, names=nom_colonnes)\n",
    "\n",
    "    return fichier\n",
    "\n",
    "names = ['CRIM', 'ZN', 'INDUS', 'CHAS', 'NOX', 'RM', 'AGE', 'DIS', 'RAD', 'TAX', 'PTRATIO', 'B', 'LSTAT', 'MEDV']\n",
    "\n",
    "iris_df = cvs_to_dataFrame()\n",
    "titanic_df = cvs_to_dataFrame()\n",
    "boston_df = txt_to_dataFrame(names, 22)"
   ]
  },
  {
   "cell_type": "markdown",
   "id": "85628b23",
   "metadata": {},
   "source": [
    "# 1) Limitation des données et enregistrements"
   ]
  },
  {
   "cell_type": "markdown",
   "id": "a78302c4",
   "metadata": {},
   "source": [
    "## 1.1) Supprimer des colonnes "
   ]
  },
  {
   "cell_type": "markdown",
   "id": "3394eb3b",
   "metadata": {},
   "source": [
    "Il y a deux manières : \n",
    "- indiquer les colonnes à garder\n",
    "- supprimer les colonnes \n",
    "\n",
    "Pour supprimer une colonne : "
   ]
  },
  {
   "cell_type": "code",
   "execution_count": 35,
   "id": "39077bb7",
   "metadata": {},
   "outputs": [
    {
     "data": {
      "text/plain": [
       "sepal_width     float64\n",
       "petal_length    float64\n",
       "petal_width     float64\n",
       "class            object\n",
       "dtype: object"
      ]
     },
     "execution_count": 35,
     "metadata": {},
     "output_type": "execute_result"
    }
   ],
   "source": [
    "def del_column(dataset, column):\n",
    "    new_df=dataset.drop(columns=[column])\n",
    "    return new_df\n",
    "\n",
    "del_column(iris_df, 'sepal_length').dtypes"
   ]
  },
  {
   "cell_type": "markdown",
   "id": "4b46d392",
   "metadata": {},
   "source": [
    "Pour indiquer les colonnes à garder, il fauit créer un nouveau dataFrame comme ci-dessous : "
   ]
  },
  {
   "cell_type": "code",
   "execution_count": 37,
   "id": "4133335b",
   "metadata": {},
   "outputs": [
    {
     "data": {
      "text/plain": [
       "petal_length    float64\n",
       "class            object\n",
       "dtype: object"
      ]
     },
     "execution_count": 37,
     "metadata": {},
     "output_type": "execute_result"
    }
   ],
   "source": [
    "def modif_del_column(dataset, columns):\n",
    "    new_df=dataset[columns]\n",
    "    return new_df\n",
    "\n",
    "modif_del_column(iris_df, ['petal_length', 'class']).dtypes\n"
   ]
  },
  {
   "cell_type": "markdown",
   "id": "4f42a538",
   "metadata": {},
   "source": [
    "## 1.2) Supprimer des enregistrements "
   ]
  },
  {
   "cell_type": "markdown",
   "id": "e751c9c6",
   "metadata": {},
   "source": [
    "Il est possible de supprimer un enregistrement en indiquant la ligne mais cette méthode n'est pas otpimale. En effet, en faisant cela vous risquez de modifier complètement le dataset en supprimant une données nécessaire. Il est préférable d'utiliser la fonction dropna. Celle-ci demande en paramètre : \n",
    "- l'axe (axis) 0 pour les lignes et 1 pour les colonnes\n",
    "- une méthode (how) qui vaut any ou all \n",
    "- subset pour préciser un sous-ensemble des colonnes à utiliser"
   ]
  },
  {
   "cell_type": "code",
   "execution_count": 40,
   "id": "160b7a54",
   "metadata": {},
   "outputs": [
    {
     "data": {
      "text/plain": [
       "PassengerId    714\n",
       "Survived       714\n",
       "Pclass         714\n",
       "Name           714\n",
       "Sex            714\n",
       "Age            714\n",
       "SibSp          714\n",
       "Parch          714\n",
       "Ticket         714\n",
       "Fare           714\n",
       "Cabin          185\n",
       "Embarked       714\n",
       "zscore_Fare    714\n",
       "dtype: int64"
      ]
     },
     "execution_count": 40,
     "metadata": {},
     "output_type": "execute_result"
    }
   ],
   "source": [
    "#Supprime toutes les lignes où l'age est vide \n",
    "def del_empty_case(dataset, subset):\n",
    "    new_df = titanic_df.dropna(axis=0, subset=[subset]).reset_index(drop=True)\n",
    "    return new_df\n",
    "\n",
    "del_empty_case(titanic_df, 'Age').count()"
   ]
  },
  {
   "cell_type": "markdown",
   "id": "f3b440ab",
   "metadata": {},
   "source": [
    "On peut également filtrer les lignes selon une condition au moyen de la commande suivante : "
   ]
  },
  {
   "cell_type": "code",
   "execution_count": 6,
   "id": "f4ea3188",
   "metadata": {},
   "outputs": [],
   "source": [
    "new_df=titanic_df[titanic_df['Sex']=='femelle']\n",
    "new_df=titanic_df[(titanic_df['Sex']=='femelle')&(titanic_df['Age']>=21)]"
   ]
  },
  {
   "cell_type": "markdown",
   "id": "c4215cf2",
   "metadata": {},
   "source": [
    "# 2) Séparer le dataset"
   ]
  },
  {
   "cell_type": "markdown",
   "id": "bd2f964c",
   "metadata": {},
   "source": [
    "Dans cette partie nous séparerons le dataset de sorte à obtenir un dataset d'entrainement et un dataset de test. \n",
    "\n",
    "Data snooping : analyser les données trop finement sans avoir extrait le dataset d'entrainement\n",
    "\n",
    "Au cours du processus de modélisation, le dataset d'entrainement sera à nouveau séparé entre apprentissage et validation. "
   ]
  },
  {
   "cell_type": "markdown",
   "id": "5d41338f",
   "metadata": {},
   "source": [
    "## 2.1) Séparation aléatoire "
   ]
  },
  {
   "cell_type": "markdown",
   "id": "e9061a0e",
   "metadata": {},
   "source": [
    "Il faut d'abord mélanger le dataset avant d'effectuer toute opération. "
   ]
  },
  {
   "cell_type": "code",
   "execution_count": 7,
   "id": "7d461987",
   "metadata": {},
   "outputs": [],
   "source": [
    "#Sélectionne un échantillon mélangé de 80% de l'ensemble des données de titanic_df\n",
    "train_titanic = titanic_df.sample(frac=0.8, random_state=42)#42 la réponse universelle\n",
    "test_titanic = titanic_df.drop(train_titanic.index)\n",
    "#optionnel : mélanger le dataset d'entrainement\n",
    "test_titanic = test_titanic.sample(frac=1, random_state=42)\n"
   ]
  },
  {
   "cell_type": "markdown",
   "id": "c7630ff2",
   "metadata": {},
   "source": [
    "## 2.2) Séparation stratifiée "
   ]
  },
  {
   "cell_type": "markdown",
   "id": "95dad62b",
   "metadata": {},
   "source": [
    "Le dataset est séparé en amont selon la valeur d'une variable, puis chacune de ces catégories sera séparée selon le taux souhaité. Il faut d'abord vérifier qu'il existe une colonne catégorielle possédant peu de valeurs différentes car la séparation stratifiée focntionne mal sur des catégories trop éclatée. Il faut finalement grouper les données par catégories et faire un sample dans chacune d'elles. "
   ]
  },
  {
   "cell_type": "code",
   "execution_count": 78,
   "id": "e6ec50c2",
   "metadata": {},
   "outputs": [
    {
     "name": "stdout",
     "output_type": "stream",
     "text": [
      "taille donnees d entrainement :  713\n",
      "taille donnees de teste :  178\n"
     ]
    }
   ],
   "source": [
    "def stratified_seperation(dataset, frac, column):\n",
    "    \n",
    "    train_dataset=dataset.groupby(column, group_keys=False).apply(lambda x : x.sample(frac=frac, random_state=42))\n",
    "    test_dataset = dataset.drop(train_dataset.index)\n",
    "    \n",
    "    return train_dataset, test_dataset\n",
    "\n",
    "seperation=stratified_seperation(titanic_df, 0.8, 'Sex')\n",
    "\n",
    "\n",
    "print('taille donnees d entrainement : ',seperation[0].shape[0])\n",
    "print('taille donnees de teste : ', seperation[1].shape[0])\n"
   ]
  },
  {
   "cell_type": "markdown",
   "id": "02b9c6d8",
   "metadata": {},
   "source": [
    "# 3) Traiter les données manquantes "
   ]
  },
  {
   "cell_type": "markdown",
   "id": "72008be6",
   "metadata": {},
   "source": [
    "Il existe trois méthodes (dont deux déjà vues précédemment) : \n",
    "- Supprimer la colonne incriminée\n",
    "- Supprimer les lignes où des valeurs sont manquantes\n",
    "- Remplir les valeurs manquantes par des valeurs décidée en amont, le padding"
   ]
  },
  {
   "cell_type": "code",
   "execution_count": 52,
   "id": "80a1eb77",
   "metadata": {},
   "outputs": [
    {
     "data": {
      "text/plain": [
       "PassengerId    891\n",
       "Survived       891\n",
       "Pclass         891\n",
       "Name           891\n",
       "Sex            891\n",
       "Age            714\n",
       "SibSp          891\n",
       "Parch          891\n",
       "Ticket         891\n",
       "Fare           891\n",
       "Cabin          204\n",
       "Embarked       891\n",
       "zscore_Fare    891\n",
       "dtype: int64"
      ]
     },
     "execution_count": 52,
     "metadata": {},
     "output_type": "execute_result"
    }
   ],
   "source": [
    "def append_value_empty_cases(dataset, column, value) :\n",
    "    dataset[column] = dataset[column].fillna(value)\n",
    "    return dataset\n",
    "append_value_empty_cases(titanic_df, 'Fare', 'S').count()"
   ]
  },
  {
   "cell_type": "markdown",
   "id": "5e62b27c",
   "metadata": {},
   "source": [
    "# 4) Préparer les attributs numériques"
   ]
  },
  {
   "cell_type": "markdown",
   "id": "80d5a8b6",
   "metadata": {},
   "source": [
    "Pour préparer les données, il existe plusieurs possibilités cumulables : \n",
    "- la validation des données\n",
    "- le feature engineering \n",
    "- la dicrétisation \n",
    "- la normalisation"
   ]
  },
  {
   "cell_type": "markdown",
   "id": "26962e64",
   "metadata": {},
   "source": [
    "## 4.1) La validation des données "
   ]
  },
  {
   "cell_type": "markdown",
   "id": "3b8c364e",
   "metadata": {},
   "source": [
    "Une fois deux plus cette méthode contient deux aspects : \n",
    "- Sémantique : vérifier que les valeurs fournies correspondent au sens de la colonne et à son contexte.\n",
    "- Statistique : trouver les données dont la valeur est peu probable par rapport aux autres valeurs. \n",
    "\n",
    "Pour la méthode statistique on regardera l'écart à la moyenne, la valeur absolue du z-score et l'écart au premier quartile"
   ]
  },
  {
   "cell_type": "code",
   "execution_count": 25,
   "id": "dbad5fb7",
   "metadata": {},
   "outputs": [],
   "source": [
    "def validation_statique_ecart_moyenne(dataset, column):\n",
    "    \n",
    "    std = dataset[column].std()#calcul de l'écart type\n",
    "    mean = dataset[column].mean()#calcul de la moyenne \n",
    "    limit_low = mean - 3 * std #calcul de la limite basse de filtrage : distance de trois fois l'écart type à la médiane. \n",
    "    limit_high = mean + 3 * std#de même pour la limite haute \n",
    "    \n",
    "    new_df=dataset[dataset[column].between(limit_low, limit_high)]#applique les changements au dataset\n",
    "    \n",
    "    return new_df\n",
    "    \n",
    "    "
   ]
  },
  {
   "cell_type": "code",
   "execution_count": 26,
   "id": "c1132da1",
   "metadata": {},
   "outputs": [
    {
     "name": "stdout",
     "output_type": "stream",
     "text": [
      "Max dataset non filtre :  512.3292\n",
      "nbr data :  891\n",
      "\n",
      "Max dataset filtre : 164.8667\n",
      "nbr data :  871\n",
      "\n",
      "donnees retirees :  20\n"
     ]
    }
   ],
   "source": [
    "print('Max dataset non filtre : ', max(titanic_df['Fare']))\n",
    "print('nbr data : ', titanic_df.shape[0])\n",
    "print()\n",
    "\n",
    "new_dataset = validation_statique_ecart_moyenne(titanic_df, 'Fare')\n",
    "\n",
    "print('Max dataset filtre :', max(new_dataset['Fare']))\n",
    "print('nbr data : ', new_dataset.shape[0])\n",
    "print()\n",
    "\n",
    "print('donnees retirees : ', titanic_df.shape[0]-new_dataset.shape[0])"
   ]
  },
  {
   "cell_type": "markdown",
   "id": "1d2981eb",
   "metadata": {},
   "source": [
    "z_score = (X - moyenne)/(écart_type)"
   ]
  },
  {
   "cell_type": "code",
   "execution_count": 61,
   "id": "4227fa32",
   "metadata": {},
   "outputs": [],
   "source": [
    "#Consiste à calculer la distance entre la valeur et la moyenne en terme d'écarts types\n",
    "def validation_statique_z_score(dataset, column):\n",
    "    zscore = 'zscore_'+column\n",
    "    dataset[zscore]=(dataset[column]-dataset[column].mean())/(dataset[column].std())\n",
    "#La valeur absolue du du z-score pour ne garder que les données pourn lesquelles elle est inférieure à 3.     \n",
    "    new_df = dataset[dataset[zscore].abs()<3]\n",
    "    \n",
    "    return new_df"
   ]
  },
  {
   "cell_type": "code",
   "execution_count": 62,
   "id": "10835625",
   "metadata": {},
   "outputs": [
    {
     "name": "stdout",
     "output_type": "stream",
     "text": [
      "Max dataset non filtre :  512.3292\n",
      "nbr data :  891\n",
      "\n",
      "Max dataset filtre : 164.8667\n",
      "nbr data :  871\n",
      "\n",
      "donnees retirees :  20\n"
     ]
    }
   ],
   "source": [
    "print('Max dataset non filtre : ', max(titanic_df['Fare']))\n",
    "print('nbr data : ', titanic_df.shape[0])\n",
    "print()\n",
    "\n",
    "new_dataset = validation_statique_z_score(titanic_df, 'Fare')\n",
    "\n",
    "print('Max dataset filtre :', max(new_dataset['Fare']))\n",
    "print('nbr data : ', new_dataset.shape[0])\n",
    "print()\n",
    "\n",
    "print('donnees retirees : ', titanic_df.shape[0]-new_dataset.shape[0])"
   ]
  },
  {
   "cell_type": "code",
   "execution_count": 65,
   "id": "aa82e2d2",
   "metadata": {},
   "outputs": [],
   "source": [
    "def validation_statique_ecart_type(dataset, column):\n",
    "    \n",
    "    q1 = dataset[column].quantile(0.25)#Premier quartile\n",
    "    q3 = dataset[column].quantile(0.75)\n",
    "    \n",
    "    diff=q3-q1\n",
    "    \n",
    "#Création d'une limite basse et d'une limite haute \n",
    "\n",
    "    limit_low = q1 - 1.5*diff\n",
    "    limit_high = q3 + 1.5*diff\n",
    "    \n",
    "    new_df=dataset[dataset[column].between(limit_low, limit_high)]\n",
    "    \n",
    "    return new_df"
   ]
  },
  {
   "cell_type": "code",
   "execution_count": 66,
   "id": "ef2db1d9",
   "metadata": {},
   "outputs": [
    {
     "name": "stdout",
     "output_type": "stream",
     "text": [
      "Max dataset non filtre :  512.3292\n",
      "nbr data :  891\n",
      "\n",
      "Max dataset filtre : 65.0\n",
      "nbr data :  775\n",
      "\n",
      "donnees retirees :  116\n"
     ]
    }
   ],
   "source": [
    "print('Max dataset non filtre : ', max(titanic_df['Fare']))\n",
    "print('nbr data : ', titanic_df.shape[0])\n",
    "print()\n",
    "\n",
    "new_dataset = validation_statique_ecart_type(titanic_df, 'Fare')\n",
    "\n",
    "print('Max dataset filtre :', max(new_dataset['Fare']))\n",
    "print('nbr data : ', new_dataset.shape[0])\n",
    "print()\n",
    "\n",
    "print('donnees retirees : ', titanic_df.shape[0]-new_dataset.shape[0])"
   ]
  },
  {
   "cell_type": "markdown",
   "id": "2142fa33",
   "metadata": {},
   "source": [
    "## 4.2) Feature engineering "
   ]
  },
  {
   "cell_type": "markdown",
   "id": "7455b26f",
   "metadata": {},
   "source": [
    "Correspond au fait de créer de nouvelles colonnes à partir des données de colonnes déjà existantes."
   ]
  },
  {
   "cell_type": "code",
   "execution_count": 67,
   "id": "5d194f1f",
   "metadata": {},
   "outputs": [],
   "source": [
    "iris_df['petal_area']=iris_df['petal_length']*iris_df['petal_width']"
   ]
  },
  {
   "cell_type": "markdown",
   "id": "856883f3",
   "metadata": {},
   "source": [
    "## 4.3) Discrétisation  "
   ]
  },
  {
   "cell_type": "markdown",
   "id": "a8235bf5",
   "metadata": {},
   "source": [
    "Action de transformer une variable numérique en une variable catégorielle"
   ]
  },
  {
   "cell_type": "code",
   "execution_count": 68,
   "id": "398205f2",
   "metadata": {},
   "outputs": [
    {
     "data": {
      "text/plain": [
       "<AxesSubplot:>"
      ]
     },
     "execution_count": 68,
     "metadata": {},
     "output_type": "execute_result"
    },
    {
     "data": {
      "image/png": "[encoded data removed]",
      "text/plain": [
       "<Figure size 432x288 with 1 Axes>"
      ]
     },
     "metadata": {
      "needs_background": "light"
     },
     "output_type": "display_data"
    }
   ],
   "source": [
    "titanic_df['Age'].hist()"
   ]
  },
  {
   "cell_type": "markdown",
   "id": "16d213ee",
   "metadata": {},
   "source": [
    "Cette distribution n'est ni uniforme ni normale. Il pourrait être intéressant de faire des catégories d'ages plutôt que d'afficher l'age directement. "
   ]
  },
  {
   "cell_type": "markdown",
   "id": "62c2d722",
   "metadata": {},
   "source": [
    "### 4.3.1) Intervalles égaux "
   ]
  },
  {
   "cell_type": "markdown",
   "id": "9171666b",
   "metadata": {},
   "source": [
    "bins : nombre d'intervalle\n",
    "\n",
    "=> adapté pour les distributions plutôt uniformes "
   ]
  },
  {
   "cell_type": "code",
   "execution_count": 69,
   "id": "e08ee9b2",
   "metadata": {},
   "outputs": [
    {
     "data": {
      "text/plain": [
       "(16.336, 32.252]    346\n",
       "(32.252, 48.168]    188\n",
       "(0.34, 16.336]      100\n",
       "(48.168, 64.084]     69\n",
       "(64.084, 80.0]       11\n",
       "Name: Age_bins, dtype: int64"
      ]
     },
     "execution_count": 69,
     "metadata": {},
     "output_type": "execute_result"
    }
   ],
   "source": [
    "titanic_df['Age_bins']=pd.cut(titanic_df['Age'], bins=5)\n",
    "titanic_df['Age_bins'].value_counts()"
   ]
  },
  {
   "cell_type": "markdown",
   "id": "737156ff",
   "metadata": {},
   "source": [
    "### 4.3.2) Répartition par quartile "
   ]
  },
  {
   "cell_type": "code",
   "execution_count": 73,
   "id": "f3f05963",
   "metadata": {},
   "outputs": [
    {
     "data": {
      "text/plain": [
       "(0.419, 19.0]    164\n",
       "(31.8, 41.0]     144\n",
       "(41.0, 80.0]     142\n",
       "(19.0, 25.0]     137\n",
       "(25.0, 31.8]     127\n",
       "Name: Age_quantiles, dtype: int64"
      ]
     },
     "execution_count": 73,
     "metadata": {},
     "output_type": "execute_result"
    }
   ],
   "source": [
    "titanic_df['Age_quantiles']=pd.qcut(titanic_df['Age'], q=5)\n",
    "titanic_df['Age_quantiles'].value_counts()"
   ]
  },
  {
   "cell_type": "markdown",
   "id": "6cba2296",
   "metadata": {},
   "source": [
    "### 4.3.3) Répartition manuelle "
   ]
  },
  {
   "cell_type": "code",
   "execution_count": 74,
   "id": "ca0c4826",
   "metadata": {},
   "outputs": [
    {
     "data": {
      "text/plain": [
       "Mature    241\n",
       "Young     205\n",
       "Teen      133\n",
       "Child      71\n",
       "Senior     64\n",
       "Name: Age_manual, dtype: int64"
      ]
     },
     "execution_count": 74,
     "metadata": {},
     "output_type": "execute_result"
    }
   ],
   "source": [
    "titanic_df['Age_manual']=pd.cut(titanic_df['Age'], bins=[0,13,21,30,50,90], \n",
    "                                labels = ['Child', 'Teen', 'Young', 'Mature', 'Senior'])\n",
    "titanic_df['Age_manual'].value_counts()"
   ]
  },
  {
   "cell_type": "markdown",
   "id": "61120bf8",
   "metadata": {},
   "source": [
    "## 4.4) Normaliser"
   ]
  },
  {
   "cell_type": "markdown",
   "id": "743b5cf8",
   "metadata": {},
   "source": [
    "A pour but de ramener toutes les valeurs à une échelle où elles peuvent être comparées. Dans cette partie je créerai des fonctions de normalisation dites robuste et standard. La fonction de normalisation robuste consiste à centrer les données sur la médiane (q2) et à uniformiser l'écart interquartile (q3-q1) qui deviendra l'unité. "
   ]
  },
  {
   "cell_type": "code",
   "execution_count": 75,
   "id": "2e89b76d",
   "metadata": {},
   "outputs": [],
   "source": [
    "def robuste_scaling(dataset, column):\n",
    "    \n",
    "    q1 = dataset[column].quantile(0.25)\n",
    "    q3 = dataset[column].quantile(0.75)\n",
    "    \n",
    "    diff = q3 - q2\n",
    "\n",
    "    q2 = dataset[column].mean()\n",
    "    \n",
    "    dataset[column]=(dataset[column]-q2)/(diff)\n",
    "    \n",
    "    return dataset\n",
    "\n",
    "def standard_scaling(dataset, column):\n",
    "    \n",
    "    mean = dataset[column].mean()\n",
    "    std = dataset[column].std()\n",
    "    dataset[column]=(dataset[column]-mean)/std\n",
    "    \n",
    "    return dataset"
   ]
  },
  {
   "cell_type": "code",
   "execution_count": null,
   "id": "9274e0b1",
   "metadata": {},
   "outputs": [],
   "source": []
  }
 ],
 "metadata": {
  "kernelspec": {
   "display_name": "Python 3 (ipykernel)",
   "language": "python",
   "name": "python3"
  },
  "language_info": {
   "codemirror_mode": {
    "name": "ipython",
    "version": 3
   },
   "file_extension": ".py",
   "mimetype": "text/x-python",
   "name": "python",
   "nbconvert_exporter": "python",
   "pygments_lexer": "ipython3",
   "version": "3.9.7"
  }
 },
 "nbformat": 4,
 "nbformat_minor": 5
}
