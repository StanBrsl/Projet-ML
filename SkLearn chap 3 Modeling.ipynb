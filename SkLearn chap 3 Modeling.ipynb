{
 "cells": [
  {
   "cell_type": "markdown",
   "id": "36af2ef2",
   "metadata": {},
   "source": [
    "Cette étape consiste à créer un ou plusieurs modèles permettant de réaliser la tâche déterminée en Buiness Understanding. Ces modèles devront être améliorés, affinés et comparés de sorte à déterminer le meilleur modèle pour obtenir le résultat le plus précis possible. "
   ]
  },
  {
   "cell_type": "markdown",
   "id": "5ead35b9",
   "metadata": {},
   "source": [
    "# 1) Création d'un ensemble de validation "
   ]
  },
  {
   "cell_type": "code",
   "execution_count": null,
   "id": "494495d0",
   "metadata": {},
   "outputs": [],
   "source": []
  }
 ],
 "metadata": {
  "kernelspec": {
   "display_name": "Python 3 (ipykernel)",
   "language": "python",
   "name": "python3"
  },
  "language_info": {
   "codemirror_mode": {
    "name": "ipython",
    "version": 3
   },
   "file_extension": ".py",
   "mimetype": "text/x-python",
   "name": "python",
   "nbconvert_exporter": "python",
   "pygments_lexer": "ipython3",
   "version": "3.9.7"
  }
 },
 "nbformat": 4,
 "nbformat_minor": 5
}
