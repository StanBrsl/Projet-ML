{
 "cells": [
  {
   "cell_type": "markdown",
   "id": "bcab59da",
   "metadata": {},
   "source": [
    "# Chargement et analyse des données"
   ]
  },
  {
   "cell_type": "markdown",
   "id": "aa77e479",
   "metadata": {},
   "source": [
    "# 1) Chargement et lecture des données "
   ]
  },
  {
   "cell_type": "markdown",
   "id": "8f78db66",
   "metadata": {},
   "source": [
    "## 1.1) Charger les données"
   ]
  },
  {
   "cell_type": "code",
   "execution_count": null,
   "id": "daa53b46",
   "metadata": {},
   "outputs": [],
   "source": [
    "%matplotlib inline"
   ]
  },
  {
   "cell_type": "markdown",
   "id": "47a3c6b5",
   "metadata": {},
   "source": [
    "Je commence par ouvrir les fichiers nécessaires. Les fichiers à ouvrir sont au format csv et txt.  "
   ]
  },
  {
   "cell_type": "code",
   "execution_count": null,
   "id": "db8a8963",
   "metadata": {},
   "outputs": [],
   "source": [
    "import pandas as pd \n",
    "\n",
    "import tkinter as tk\n",
    "from tkinter import filedialog as fd\n",
    "\n",
    "def select_file_csv():\n",
    "    \n",
    "    init = \"C:\\\\Users\\\\Stanislas Brusselle\\\\OneDrive\\\\Documents\\\\Projet ML sklearn\\\\des-fichiers-complementaires-3-049-ko\\\\Telechargement\\\\data\"\n",
    "    \n",
    "    file_type = (('csv file', '*.csv'), ('All file', '*.*'))\n",
    "    file_name = fd.askopenfilename(initialdir = init, title='Fichiers', filetypes = file_type)\n",
    "    \n",
    "    return file_name\n",
    "\n",
    "def select_file_txt():\n",
    "    \n",
    "    init = \"C:\\\\Users\\\\Stanislas Brusselle\\\\OneDrive\\\\Documents\\\\Projet ML sklearn\\\\des-fichiers-complementaires-3-049-ko\\\\Telechargement\\\\data\"\n",
    "    \n",
    "    file_type = (('csv file', '*.txt'), ('All file', '*.*'))\n",
    "    file_name = fd.askopenfilename(initialdir = init, title='Fichiers', filetypes = file_type)\n",
    "    \n",
    "    return file_name\n",
    "\n",
    "def cvs_to_dataFrame():\n",
    "    \n",
    "    root=tk.Tk()  \n",
    "    root.overrideredirect(1)\n",
    "\n",
    "    path=select_file_csv()\n",
    "\n",
    "    root.destroy()\n",
    "    \n",
    "    print(\"path : \" + path)\n",
    "    \n",
    "    with open(path, mode='r') as file : \n",
    "        fichier = pd.read_csv(file)\n",
    "        \n",
    "    return fichier\n",
    "\n",
    "def txt_to_dataFrame(nom_colonnes, skip_rows):\n",
    "    \n",
    "    root=tk.Tk()  \n",
    "    root.overrideredirect(1)\n",
    "\n",
    "    path=select_file_txt()\n",
    "\n",
    "    root.destroy()\n",
    "    \n",
    "    print(\"path : \" + path)\n",
    "    \n",
    "    with open(path, mode='r') as file : \n",
    "        fichier = pd.read_fwf(file, skip_rows=skip_rows, header=None, names=nom_colonnes)\n",
    "\n",
    "    return fichier\n",
    "\n"
   ]
  },
  {
   "cell_type": "code",
   "execution_count": null,
   "id": "7e32650a",
   "metadata": {},
   "outputs": [],
   "source": [
    "names = ['CRIM', 'ZN', 'INDUS', 'CHAS', 'NOX', 'RM', 'AGE', 'DIS', 'RAD', 'TAX', 'PTRATIO', 'B', 'LSTAT', 'MEDV']\n",
    "\n",
    "iris_df = cvs_to_dataFrame()\n",
    "\n",
    "titanic_df = cvs_to_dataFrame()\n",
    "\n",
    "boston_df = txt_to_dataFrame(names, 22)\n",
    "boston_df.head()"
   ]
  },
  {
   "cell_type": "markdown",
   "id": "3ed06134",
   "metadata": {},
   "source": [
    "## 1.2) Carte id data"
   ]
  },
  {
   "cell_type": "markdown",
   "id": "05c1c867",
   "metadata": {},
   "source": [
    "Cette étape est important car elle va indiquer toutes les informations globales sur les données qui seront ensuite utilisées pour le processus. Elle comprend : \n",
    "- le nom du dataset\n",
    "- sa provenance \n",
    "- sa taille \n",
    "- son formatage \n",
    "- la description métier des données\n",
    "\n",
    "La plupart des informations sont déjà connues, car les données ont été au préalable importées et formatées en dataFrame.\n",
    "\n",
    "Pour la taille du dataset : "
   ]
  },
  {
   "cell_type": "code",
   "execution_count": null,
   "id": "faabc9f4",
   "metadata": {},
   "outputs": [],
   "source": [
    "iris_df.shape"
   ]
  },
  {
   "cell_type": "markdown",
   "id": "f54ea277",
   "metadata": {},
   "source": [
    "Soit 150 lignes et 5 colonnes "
   ]
  },
  {
   "cell_type": "markdown",
   "id": "81b19a81",
   "metadata": {},
   "source": [
    "## 1.3) Description des champs"
   ]
  },
  {
   "cell_type": "markdown",
   "id": "3cdfeac5",
   "metadata": {},
   "source": [
    "Il faut ensuite pouvoir décrire les données, c'est-à-dire, donner un sens à leur valeurs pour une compréhension totale du dataset. Il faut donner pour chacunes des données : \n",
    "- son nom\n",
    "- son type\n",
    "- son format\n",
    "- sa description \n",
    "- son unité \n",
    "- la présence ou non de données manquantes\n",
    "- ses limites attendues\n",
    "- toute autre information utile si besoin\n",
    "\n",
    "Pandas permet d'obtenir certaines de ces informations : le type et s'il y a des informations manquantes. \n",
    "\n",
    "Pour déterminer le type : "
   ]
  },
  {
   "cell_type": "code",
   "execution_count": null,
   "id": "02481151",
   "metadata": {},
   "outputs": [],
   "source": [
    "iris_df.dtypes"
   ]
  },
  {
   "cell_type": "code",
   "execution_count": null,
   "id": "c1b68778",
   "metadata": {},
   "outputs": [],
   "source": [
    "iris_df['class']= iris_df['class'].astype('category')\n",
    "iris_df.dtypes"
   ]
  },
  {
   "cell_type": "markdown",
   "id": "77514852",
   "metadata": {},
   "source": [
    "Remarque : il est possible d'accéder aux champs soit à la façon d'un dictionnaire \"df['colonnes']\", soit en écriture pointée \"df.colonne\""
   ]
  },
  {
   "cell_type": "code",
   "execution_count": null,
   "id": "ae120260",
   "metadata": {},
   "outputs": [],
   "source": [
    "titanic_df.dtypes"
   ]
  },
  {
   "cell_type": "markdown",
   "id": "172adaef",
   "metadata": {},
   "source": [
    "On peut ensuite modifier le types des champs : "
   ]
  },
  {
   "cell_type": "code",
   "execution_count": null,
   "id": "4adcb3c0",
   "metadata": {},
   "outputs": [],
   "source": [
    "titanic_df = titanic_df.set_index('PassengerId')\n",
    "#Ici PassengerId est utilisé comme identifiant unique. Cette colonne est alors supprimée des caractèristiques. \n",
    "#Elle remplace le numéro de ligne utilisé par défaut comme index.  \n",
    "\n",
    "titanic_df['Pclass'] = titanic_df['Pclass'].astype('category')\n",
    "titanic_df['Survived'] = titanic_df['Pclass'].astype('bool')\n",
    "titanic_df['Sex'] = titanic_df['Pclass'].astype('category')\n",
    "titanic_df['Embarked'] = titanic_df['Embarked'].astype('category')\n",
    "\n",
    "titanic_df.dtypes"
   ]
  },
  {
   "cell_type": "markdown",
   "id": "6f505ed6",
   "metadata": {},
   "source": [
    "Il faut à présent pouvoir détecter s'il y a des données qui sont manquantes dans le dataset. "
   ]
  },
  {
   "cell_type": "code",
   "execution_count": null,
   "id": "d96e1699",
   "metadata": {},
   "outputs": [],
   "source": [
    "iris_df.count()"
   ]
  },
  {
   "cell_type": "markdown",
   "id": "efc338c5",
   "metadata": {},
   "source": [
    "A ne pas confondre avec la commande : "
   ]
  },
  {
   "cell_type": "code",
   "execution_count": null,
   "id": "99476a62",
   "metadata": {},
   "outputs": [],
   "source": [
    "iris_df.count"
   ]
  },
  {
   "cell_type": "code",
   "execution_count": null,
   "id": "dabf48fb",
   "metadata": {},
   "outputs": [],
   "source": [
    "titanic_df.count()"
   ]
  },
  {
   "cell_type": "markdown",
   "id": "9815dcfa",
   "metadata": {},
   "source": [
    "On peut voir qu'il y a des données manquantes dans le dataset titanic_train, en effet : "
   ]
  },
  {
   "cell_type": "code",
   "execution_count": null,
   "id": "b24ed383",
   "metadata": {},
   "outputs": [],
   "source": [
    "titanic_df.shape"
   ]
  },
  {
   "cell_type": "markdown",
   "id": "95aedd6d",
   "metadata": {},
   "source": [
    "# 2) Statistiques descriptives sur les champs : analyse des données"
   ]
  },
  {
   "cell_type": "markdown",
   "id": "d78941a7",
   "metadata": {},
   "source": [
    "Les données sont définies en quatres types : \n",
    "- variables catégorielles\n",
    "\n",
    " => Nominales \n",
    " \n",
    " => Ordinales\n",
    " \n",
    "- variables numériques \n",
    "\n",
    " => Continues \n",
    " \n",
    " => Discrètes\n",
    " \n",
    "Pour chaque type d'information il faut produire deux informations : \n",
    "- une analyse statique \n",
    "- une visualisation des données "
   ]
  },
  {
   "cell_type": "markdown",
   "id": "d44e6434",
   "metadata": {},
   "source": [
    "## 2.1) Analyse  des données numériques "
   ]
  },
  {
   "cell_type": "markdown",
   "id": "5b493dcb",
   "metadata": {},
   "source": [
    "Pour du ML, il est important que les données numériques suivent le plus possible un profil de gaussienne avec un écart type \"faible\"\n",
    "Une fois les données chargée, on peut appliquer les commandes suivantes pour accéder à toutes les informations requises : "
   ]
  },
  {
   "cell_type": "code",
   "execution_count": null,
   "id": "0c72288e",
   "metadata": {},
   "outputs": [],
   "source": [
    "#indicateurs de tendance centrale\n",
    "iris_df['sepal_length'].mean()\n",
    "iris_df['sepal_length'].median()\n",
    "\n",
    "iris_df['sepal_length'].min()\n",
    "iris_df['sepal_length'].max()\n",
    "\n",
    "iris_df['sepal_length'].var()#la variance\n",
    "iris_df['sepal_length'].std()#l'écart type \n",
    "\n",
    "iris_df['sepal_length'].quantile(0.25)#le premier quartile \n",
    "\n",
    "#On peut également utiliser la commande suivante pour avoir accès à toutes les informations en une seule fois. \n",
    "#Cette commande s'applique aussi sur un dataFrame\n",
    "\n",
    "iris_df['sepal_length'].describe()"
   ]
  },
  {
   "cell_type": "code",
   "execution_count": null,
   "id": "bcc5ac7a",
   "metadata": {},
   "outputs": [],
   "source": [
    "iris_df.describe()"
   ]
  },
  {
   "cell_type": "markdown",
   "id": "1cab52ff",
   "metadata": {},
   "source": [
    "Pour mieux se représenter les données il est toujours utile de tracer leur graphique associé. "
   ]
  },
  {
   "cell_type": "markdown",
   "id": "258f4b84",
   "metadata": {},
   "source": [
    "## 2.2) Représentation graphique des données numériques"
   ]
  },
  {
   "cell_type": "markdown",
   "id": "6c5c2ee2",
   "metadata": {},
   "source": [
    "Je commence par l'histogramme \"hist\" : \n",
    "\n",
    "=> bins : nombre de subdivisions\n",
    "\n",
    "=> figsize : taille de la figure*\n",
    "\n",
    "=> by : indication du champ catégoriel qui sera utilisé pour décomposer l'histogramme. "
   ]
  },
  {
   "cell_type": "code",
   "execution_count": null,
   "id": "cfd399e9",
   "metadata": {},
   "outputs": [],
   "source": [
    "iris_df['petal_length'].hist(bins=20)"
   ]
  },
  {
   "cell_type": "code",
   "execution_count": null,
   "id": "c53d0e5f",
   "metadata": {},
   "outputs": [],
   "source": [
    "iris_df['petal_length'].hist(by = iris_df['class'], figsize=(12,7))"
   ]
  },
  {
   "cell_type": "code",
   "execution_count": null,
   "id": "ec581292",
   "metadata": {},
   "outputs": [],
   "source": [
    "iris_df.hist()\n",
    "iris_df.plot(kind='hist')\n",
    "iris_df.plot.hist()\n",
    "#Ces méthodes sont presque équivalentes à quelques paramètres près. "
   ]
  },
  {
   "cell_type": "markdown",
   "id": "a44165b1",
   "metadata": {},
   "source": [
    "De la même manière on peut tracer un nuage de point : "
   ]
  },
  {
   "cell_type": "code",
   "execution_count": null,
   "id": "451b35fa",
   "metadata": {},
   "outputs": [],
   "source": [
    "iris_df.plot(kind='scatter', x = 'petal_length', y = 'petal_width')"
   ]
  },
  {
   "cell_type": "code",
   "execution_count": null,
   "id": "afaf0807",
   "metadata": {},
   "outputs": [],
   "source": [
    "import seaborn as sns\n",
    "sns.pairplot(iris_df, x_vars=['petal_length'], y_vars=['petal_width'], height = 5, hue ='class', markers = ['o', 'v', 's'])"
   ]
  },
  {
   "cell_type": "markdown",
   "id": "a154d871",
   "metadata": {},
   "source": [
    "Une dernière alternative serait l'utilisation des boites comme représentées ci-dessous : "
   ]
  },
  {
   "cell_type": "code",
   "execution_count": null,
   "id": "26ca231b",
   "metadata": {},
   "outputs": [],
   "source": [
    "iris_df['sepal_width'].plot.box()"
   ]
  },
  {
   "cell_type": "code",
   "execution_count": null,
   "id": "8c7cac78",
   "metadata": {},
   "outputs": [],
   "source": [
    "iris_df.boxplot(column='petal_width', by='class')"
   ]
  },
  {
   "cell_type": "markdown",
   "id": "f689a062",
   "metadata": {},
   "source": [
    "## 2.3) Analyse des données catégorielles "
   ]
  },
  {
   "cell_type": "markdown",
   "id": "d61db472",
   "metadata": {},
   "source": [
    "Il existe deux méthode pour décrire ce type de données : \n"
   ]
  },
  {
   "cell_type": "code",
   "execution_count": null,
   "id": "6df06ddf",
   "metadata": {},
   "outputs": [],
   "source": [
    "titanic_df['Embarked'].describe()"
   ]
  },
  {
   "cell_type": "code",
   "execution_count": null,
   "id": "cf1f040f",
   "metadata": {},
   "outputs": [],
   "source": [
    "titanic_df['Embarked'].value_counts()"
   ]
  },
  {
   "cell_type": "markdown",
   "id": "4172116b",
   "metadata": {},
   "source": [
    "## 2.4) Représentation graphique des données catégorielles"
   ]
  },
  {
   "cell_type": "code",
   "execution_count": null,
   "id": "000d13ed",
   "metadata": {},
   "outputs": [],
   "source": [
    "titanic_df['Embarked'].value_counts().plot(kind='bar')"
   ]
  },
  {
   "cell_type": "code",
   "execution_count": null,
   "id": "e78bdc22",
   "metadata": {},
   "outputs": [],
   "source": [
    "titanic_df['Embarked'].value_counts().plot(kind='pie')"
   ]
  },
  {
   "cell_type": "markdown",
   "id": "1cb3224d",
   "metadata": {},
   "source": [
    "# 3) Analyse croisée des données "
   ]
  },
  {
   "cell_type": "markdown",
   "id": "6cc5b4fe",
   "metadata": {},
   "source": [
    "Il est souvent utile d'analyser les liens entre les données, pour voir si certaines ont un impact sur d'autres. "
   ]
  },
  {
   "cell_type": "markdown",
   "id": "09f19661",
   "metadata": {},
   "source": [
    "## 3.1) Corrélation entre données numériques "
   ]
  },
  {
   "cell_type": "markdown",
   "id": "d9e172bf",
   "metadata": {},
   "source": [
    "Pour déterminer le lien entre les variables numériques ont utilisera un coéfficient de corrélation. Pour cela, il existe deux méthodes : \n",
    "\n",
    "- corrwith : pour obtenir tous les liens de corrélation des catégorie par rapport à une catégorie choisie \n",
    "- corr : calcule les coéfficients de corrélation entre les variables deux à deux et les présente dans un dataFrame"
   ]
  },
  {
   "cell_type": "code",
   "execution_count": null,
   "id": "6c97b703",
   "metadata": {},
   "outputs": [],
   "source": [
    "iris_df.corrwith(iris_df['sepal_length']).abs()"
   ]
  },
  {
   "cell_type": "code",
   "execution_count": null,
   "id": "23812f58",
   "metadata": {},
   "outputs": [],
   "source": [
    "iris_df.corr()"
   ]
  },
  {
   "cell_type": "markdown",
   "id": "3752b456",
   "metadata": {},
   "source": [
    "## 3.2) Corrélation entre variables numériques et variables catégorielles "
   ]
  },
  {
   "cell_type": "markdown",
   "id": "1b130a7a",
   "metadata": {},
   "source": [
    "Pour cela on utilisera la méthode group by qui permet de regrouper les données avant d'y appliquer la méthode describe "
   ]
  },
  {
   "cell_type": "code",
   "execution_count": null,
   "id": "a7d5f3e3",
   "metadata": {},
   "outputs": [],
   "source": [
    "iris_df.groupby('class')['sepal_length'].describe().transpose()"
   ]
  },
  {
   "cell_type": "markdown",
   "id": "ec98a426",
   "metadata": {},
   "source": [
    "## 3.3) Corrélation entre variables catégorielles "
   ]
  },
  {
   "cell_type": "code",
   "execution_count": null,
   "id": "3b1357ae",
   "metadata": {},
   "outputs": [],
   "source": [
    "titanic_df.groupby('Survived')['Embarked'].value_counts()"
   ]
  },
  {
   "cell_type": "markdown",
   "id": "c319a11c",
   "metadata": {},
   "source": [
    "Calculer le pourcentage sera plus visuel : "
   ]
  },
  {
   "cell_type": "code",
   "execution_count": null,
   "id": "3677ed5f",
   "metadata": {},
   "outputs": [],
   "source": [
    "titanic_df.groupby('Survived')['Embarked'].value_counts(normalize=True)"
   ]
  }
 ],
 "metadata": {
  "kernelspec": {
   "display_name": "Python 3 (ipykernel)",
   "language": "python",
   "name": "python3"
  },
  "language_info": {
   "codemirror_mode": {
    "name": "ipython",
    "version": 3
   },
   "file_extension": ".py",
   "mimetype": "text/x-python",
   "name": "python",
   "nbconvert_exporter": "python",
   "pygments_lexer": "ipython3",
   "version": "3.9.7"
  }
 },
 "nbformat": 4,
 "nbformat_minor": 5
}
